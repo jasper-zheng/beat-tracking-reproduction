{
 "cells": [
  {
   "cell_type": "code",
   "execution_count": null,
   "id": "ebd7d36f-9851-47c6-9291-26dd2c8ca29a",
   "metadata": {},
   "outputs": [],
   "source": [
    "import numpy as np\n",
    "import librosa\n",
    "import os\n",
    "import glob\n",
    "from tqdm import tqdm\n",
    "import matplotlib.pyplot as plt\n",
    "\n",
    "def compute_spectrogram(audio_file, sr=44100, n_fft=2048, hop_length=441, n_mels=81):\n",
    "\n",
    "    y, sr = librosa.load(audio_file, sr=sr, mono=True)\n",
    "    S = np.abs(librosa.feature.melspectrogram(y=y, n_fft=n_fft, hop_length=hop_length, n_mels=n_mels, fmin=30, fmax=17000))\n",
    "    return S\n",
    "\n",
    "def compute_all_spectrograms(input_folder, output_folder):\n",
    "    if not os.path.exists(output_folder):\n",
    "        print(f\"Creating output folder: {output_folder}\")\n",
    "        os.makedirs(output_folder)\n",
    "\n",
    "    for i, file_name in enumerate(glob.glob(os.path.join(input_folder, '**/*'),recursive=True)):\n",
    "        if file_name.endswith(('.wav')):\n",
    "            audio_path = os.path.join(input_folder, file_name)\n",
    "            spectrogram = compute_spectrogram(audio_path)\n",
    "\n",
    "            if spectrogram is not None:\n",
    "                save_path = os.path.join(output_folder, file_name.replace('.wav', '.npy').split('/')[-1])\n",
    "                np.save(save_path, spectrogram)\n",
    "\n",
    "                if i % 10 == 0:\n",
    "                    print(f\"Processed {i} files: {save_path}\")\n",
    "\n",
    "input_folder = \"/content/BallroomData/\"  # Replace with audio file folder path\n",
    "output_folder = \"/content/spectrograms/\"\n",
    "\n",
    "compute_all_spectrograms(input_folder, output_folder)\n"
   ]
  }
 ],
 "metadata": {
  "kernelspec": {
   "display_name": "Python 3 (ipykernel)",
   "language": "python",
   "name": "python3"
  },
  "language_info": {
   "codemirror_mode": {
    "name": "ipython",
    "version": 3
   },
   "file_extension": ".py",
   "mimetype": "text/x-python",
   "name": "python",
   "nbconvert_exporter": "python",
   "pygments_lexer": "ipython3",
   "version": "3.11.7"
  }
 },
 "nbformat": 4,
 "nbformat_minor": 5
}
