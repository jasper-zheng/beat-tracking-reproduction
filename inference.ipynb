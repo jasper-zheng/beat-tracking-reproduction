{
 "cells": [
  {
   "cell_type": "code",
   "execution_count": null,
   "id": "523690ce-524d-441e-ba97-74ccb5f2c70a",
   "metadata": {},
   "outputs": [],
   "source": [
    "!pip install --upgrade --no-deps --force-reinstall --quiet 'git+https://github.com/CPJKU/madmom.git'\n",
    "!pip install mir_eval librosa mido"
   ]
  },
  {
   "cell_type": "code",
   "execution_count": 1,
   "id": "788de79c-cc80-41be-9265-3e1b8ed00140",
   "metadata": {
    "tags": []
   },
   "outputs": [],
   "source": [
    "from inference import beatTracker"
   ]
  },
  {
   "cell_type": "code",
   "execution_count": 2,
   "id": "61cf2925-5ca3-426e-9527-e1336b1f3d11",
   "metadata": {
    "tags": []
   },
   "outputs": [
    {
     "name": "stderr",
     "output_type": "stream",
     "text": [
      "/usr/local/lib/python3.11/dist-packages/librosa/feature/spectral.py:2143: UserWarning: Empty filters detected in mel frequency basis. Some channels will produce empty responses. Try increasing your sampling rate (and fmax) or reducing n_mels.\n",
      "  mel_basis = filters.mel(sr=sr, n_fft=n_fft, **kwargs)\n"
     ]
    },
    {
     "data": {
      "text/plain": [
       "array([ 0.54,  1.1 ,  1.67,  2.23,  2.74,  3.3 ,  3.84,  4.37,  4.9 ,\n",
       "        5.43,  5.97,  6.53,  7.05,  7.61,  8.16,  8.67,  9.21,  9.75,\n",
       "       10.28, 10.81, 11.35, 11.89, 12.43, 12.98, 13.5 , 14.04, 14.6 ,\n",
       "       15.14, 15.69, 16.2 , 16.75, 17.34, 17.88, 18.46, 18.98, 19.53,\n",
       "       20.08, 20.6 , 21.14, 21.66, 22.18, 22.72, 23.22, 23.73, 24.27,\n",
       "       24.82, 25.37, 25.91, 26.46, 26.98, 27.49, 28.03, 28.58, 29.11])"
      ]
     },
     "execution_count": 2,
     "metadata": {},
     "output_type": "execute_result"
    }
   ],
   "source": [
    "beatTracker('BallroomData/Rumba-American/Albums-Latino_Latino-05.wav')"
   ]
  },
  {
   "cell_type": "code",
   "execution_count": null,
   "id": "d604f772-b460-48bf-991f-055f15f08cd4",
   "metadata": {},
   "outputs": [],
   "source": []
  }
 ],
 "metadata": {
  "kernelspec": {
   "display_name": "Python 3 (ipykernel)",
   "language": "python",
   "name": "python3"
  },
  "language_info": {
   "codemirror_mode": {
    "name": "ipython",
    "version": 3
   },
   "file_extension": ".py",
   "mimetype": "text/x-python",
   "name": "python",
   "nbconvert_exporter": "python",
   "pygments_lexer": "ipython3",
   "version": "3.11.7"
  }
 },
 "nbformat": 4,
 "nbformat_minor": 5
}
