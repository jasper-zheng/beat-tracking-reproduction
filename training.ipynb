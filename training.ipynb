{
 "cells": [
  {
   "cell_type": "markdown",
   "id": "83f9a457-2cf1-4d81-8223-65804efddabd",
   "metadata": {},
   "source": [
    "## Pre-Processing into Spectrograms  "
   ]
  },
  {
   "cell_type": "code",
   "execution_count": null,
   "id": "ebd7d36f-9851-47c6-9291-26dd2c8ca29a",
   "metadata": {
    "tags": []
   },
   "outputs": [],
   "source": [
    "import numpy as np\n",
    "import librosa\n",
    "import os\n",
    "import glob\n",
    "from tqdm import tqdm\n",
    "import matplotlib.pyplot as plt\n",
    "\n",
    "from utils import compute_all_spectrograms"
   ]
  },
  {
   "cell_type": "code",
   "execution_count": null,
   "id": "8e486f7f-08c0-47f8-bfe8-9e03aa70381e",
   "metadata": {
    "scrolled": true,
    "tags": []
   },
   "outputs": [],
   "source": [
    "input_folder = \"BallroomData\"  # Replace with audio file folder path\n",
    "output_folder = \"spectrograms11\"\n",
    "\n",
    "compute_all_spectrograms(input_folder, output_folder)"
   ]
  },
  {
   "cell_type": "markdown",
   "id": "b2f39fbb-7b3b-4435-8f35-94b939dcd824",
   "metadata": {},
   "source": [
    "## Creating Dataloaders"
   ]
  },
  {
   "cell_type": "code",
   "execution_count": null,
   "id": "586b2512-62ad-444f-b392-5a1631934a88",
   "metadata": {
    "tags": []
   },
   "outputs": [],
   "source": [
    "import torch\n",
    "from torch.utils.data import DataLoader\n",
    "from sklearn.model_selection import train_test_split\n",
    "\n",
    "from dataset import BallroomDataset\n",
    "from model import BeatTrackingNet"
   ]
  },
  {
   "cell_type": "code",
   "execution_count": null,
   "id": "4124b5f6-83fa-4db3-972a-36c98fb087d2",
   "metadata": {
    "tags": []
   },
   "outputs": [],
   "source": [
    "spectrogram_dir = 'spectrograms'\n",
    "annotation_dir = 'BallroomAnnotations'\n",
    "training_dataset = BallroomDataset(spectrogram_dir, annotation_dir)\n",
    "\n",
    "indices = list(range(len(training_dataset)))\n",
    "train_indices, test_indices = train_test_split(indices, test_size=0.2, random_state=42)\n",
    "\n",
    "train_sub_dataset = torch.utils.data.Subset(training_dataset, train_indices)\n",
    "test_sub_dataset = torch.utils.data.Subset(training_dataset, test_indices)\n",
    "\n",
    "print(f'train: {len(train_sub_dataset)}, test: {len(test_sub_dataset)}')"
   ]
  },
  {
   "cell_type": "code",
   "execution_count": null,
   "id": "e5d822c1-4d1d-4a37-830d-75793151eabf",
   "metadata": {
    "tags": []
   },
   "outputs": [],
   "source": [
    "it = iter(train_sub_dataset)\n",
    "x, y = next(it)\n",
    "print(f'x: {x.shape}, target: {y.shape}')"
   ]
  },
  {
   "cell_type": "markdown",
   "id": "f7dc2c1f-6b0c-4a0b-acb0-eee4039a49e4",
   "metadata": {},
   "source": [
    "## Creating Models"
   ]
  },
  {
   "cell_type": "code",
   "execution_count": null,
   "id": "ff49ab49-0e20-4a79-a622-e5f7740a344d",
   "metadata": {
    "tags": []
   },
   "outputs": [],
   "source": [
    "model_fuz = BeatTrackingNet(input_dim=81, num_filters=16, kernel_size=5, num_layers=11)\n",
    "model_no_fuz = BeatTrackingNet(input_dim=81, num_filters=16, kernel_size=5, num_layers=11)\n",
    "\n",
    "a = torch.randn(1, 1, 3000, 81)\n",
    "print(model_fuz(a).shape)\n",
    "print(model_no_fuz(a).shape)"
   ]
  },
  {
   "cell_type": "markdown",
   "id": "99fbd57b-6e3c-42ae-bef4-cd925f440c51",
   "metadata": {},
   "source": [
    "## Training"
   ]
  },
  {
   "cell_type": "code",
   "execution_count": null,
   "id": "316ba31d-1806-4d9e-bbc0-6adcdd473d86",
   "metadata": {
    "tags": []
   },
   "outputs": [],
   "source": [
    "device = torch.device('cuda' if torch.cuda.is_available() else 'cpu')\n",
    "print(f'on {device}')"
   ]
  },
  {
   "cell_type": "code",
   "execution_count": null,
   "id": "98cc80b5-db27-486b-8241-cbb462ef3774",
   "metadata": {
    "tags": []
   },
   "outputs": [],
   "source": [
    "batch_size = 1\n",
    "\n",
    "train_loader = DataLoader(train_sub_dataset, batch_size=batch_size, shuffle=True)"
   ]
  },
  {
   "cell_type": "code",
   "execution_count": null,
   "id": "24dbdf94-095a-4a52-841f-cb1bc67860be",
   "metadata": {
    "tags": []
   },
   "outputs": [],
   "source": [
    "criterion = torch.nn.BCELoss()\n",
    "\n",
    "optimizer_fuz = torch.optim.Adam(model_fuz.parameters(), lr=0.001)\n",
    "optimizer_no_fuz = torch.optim.Adam(model_no_fuz.parameters(), lr=0.001)"
   ]
  },
  {
   "cell_type": "code",
   "execution_count": null,
   "id": "3987f556-d576-4bf9-afce-7e0a5354c513",
   "metadata": {
    "scrolled": true,
    "tags": []
   },
   "outputs": [],
   "source": [
    "num_epochs = 200\n",
    "\n",
    "model_fuz = model_fuz.to(device)\n",
    "\n",
    "for epoch in range(num_epochs):\n",
    "    model_fuz.train()\n",
    "    running_loss = 0.0\n",
    "    progress_bar = tqdm(train_loader, desc=f\"Epoch {epoch+1}/{num_epochs}\", leave=False)\n",
    "\n",
    "    for spectrogram, target in progress_bar:\n",
    "        spectrogram, target = spectrogram.to(device).unsqueeze(1), target.to(device)\n",
    "\n",
    "        optimizer_fuz.zero_grad()\n",
    "        output = model_fuz(spectrogram)\n",
    "\n",
    "        loss = criterion(output, target)\n",
    "        loss.backward()\n",
    "        optimizer_fuz.step()\n",
    "\n",
    "        running_loss += loss.item()\n",
    "        progress_bar.set_postfix(loss=f\"{loss.item():.4f}\")\n",
    "\n",
    "    avg_loss = running_loss / len(train_loader)\n",
    "    print(f\"Epoch {epoch+1}/{num_epochs} - Loss: {avg_loss:.4f}\")\n",
    "\n",
    "\n",
    "torch.save(model_fuz.state_dict(), 'epoch200_fuz.pt')\n",
    "print(\"complete\")"
   ]
  },
  {
   "cell_type": "code",
   "execution_count": null,
   "id": "783c7c67-899d-4947-b7b4-2c0f0220cd7e",
   "metadata": {
    "tags": []
   },
   "outputs": [],
   "source": [
    "training_dataset.fuzziness = False"
   ]
  },
  {
   "cell_type": "code",
   "execution_count": null,
   "id": "e653dc17-4a51-4f57-8064-45b105d7cb55",
   "metadata": {
    "scrolled": true,
    "tags": []
   },
   "outputs": [],
   "source": [
    "num_epochs = 200\n",
    "\n",
    "model_no_fuz = model_no_fuz.to(device)\n",
    "\n",
    "for epoch in range(num_epochs):\n",
    "    model_no_fuz.train()\n",
    "    running_loss = 0.0\n",
    "    progress_bar = tqdm(train_loader, desc=f\"Epoch {epoch+1}/{num_epochs}\", leave=False)\n",
    "\n",
    "    for spectrogram, target in progress_bar:\n",
    "        spectrogram, target = spectrogram.to(device).unsqueeze(1), target.to(device)\n",
    "\n",
    "        optimizer_no_fuz.zero_grad()\n",
    "        output = model_no_fuz(spectrogram)\n",
    "\n",
    "        loss = criterion(output, target)\n",
    "        loss.backward()\n",
    "        optimizer_no_fuz.step()\n",
    "\n",
    "        running_loss += loss.item()\n",
    "        progress_bar.set_postfix(loss=f\"{loss.item():.4f}\")\n",
    "\n",
    "    avg_loss = running_loss / len(train_loader)\n",
    "\n",
    "    print(f\"Epoch {epoch+1}/{num_epochs} - Loss: {avg_loss:.4f}\")\n",
    "\n",
    "\n",
    "torch.save(model_no_fuz.state_dict(), 'epoch200_no_fuz.pt')\n",
    "print(\"complete\")"
   ]
  },
  {
   "cell_type": "markdown",
   "id": "30c22415-5d2c-4b9a-9574-3d447e392172",
   "metadata": {},
   "source": [
    "## Plotting  \n"
   ]
  },
  {
   "cell_type": "code",
   "execution_count": null,
   "id": "4267b613-79aa-4245-a01e-797ca9edab18",
   "metadata": {
    "tags": []
   },
   "outputs": [],
   "source": [
    "from madmom.features.beats import DBNBeatTrackingProcessor\n",
    "import matplotlib.pyplot as plt\n",
    "from torch.utils.data import DataLoader\n",
    "import mir_eval"
   ]
  },
  {
   "cell_type": "code",
   "execution_count": null,
   "id": "36e6ef08-ed00-44e7-b208-d470630e0b19",
   "metadata": {},
   "outputs": [],
   "source": []
  },
  {
   "cell_type": "code",
   "execution_count": null,
   "id": "993e7744-bdef-4ee1-ae31-b3c69afceb86",
   "metadata": {
    "tags": []
   },
   "outputs": [],
   "source": [
    "dbn_processor = DBNBeatTrackingProcessor(min_bpm=55, max_bpm=215, threshold=0.4, fps=100)\n",
    "\n",
    "test_loader = DataLoader(training_dataset, 1, shuffle=False)\n",
    "model_no_fuz.eval()\n",
    "\n",
    "sample_data = list(test_loader)\n",
    "spectrogram, ground_truth = sample_data[2]  # Select sample\n",
    "spectrogram = spectrogram.to(device).unsqueeze(1)[:,:,800:1200,:]\n",
    "ground_truth = ground_truth.cpu().numpy().flatten()[800:1200]\n",
    "\n",
    "with torch.no_grad():\n",
    "    activation = model_no_fuz(spectrogram).squeeze(1).cpu().numpy().flatten()\n",
    "\n",
    "detected_beats = dbn_processor(activation)\n",
    "\n",
    "hop_size = 0.01\n",
    "ground_truth_beats = np.where(ground_truth > 0.5)[0] * hop_size\n"
   ]
  },
  {
   "cell_type": "code",
   "execution_count": null,
   "id": "6296f453-9b41-426a-a906-acedb5f79dbf",
   "metadata": {
    "tags": []
   },
   "outputs": [],
   "source": [
    "plt.figure(figsize=(15, 3))\n",
    "plt.plot(activation)\n",
    "plt.xlabel(\"Time Steps (frames)\")\n",
    "plt.ylabel(\"Activation\")"
   ]
  },
  {
   "cell_type": "code",
   "execution_count": null,
   "id": "6a5a979a-ef68-48cf-bbe7-34785e530bae",
   "metadata": {
    "tags": []
   },
   "outputs": [],
   "source": [
    "plt.figure(figsize=(15, 3))\n",
    "plt.ylim(0, 8192)\n",
    "# plt.xlim(5,20)\n",
    "librosa.display.specshow(librosa.power_to_db(spectrogram[0,0].T.cpu(), ref=np.max), sr=44100, hop_length=441, x_axis='time', y_axis='mel', cmap='magma')\n",
    "\n",
    "plt.scatter(detected_beats, [4096] * len(detected_beats), color='blue', label='Predicted Beats (DBN)', marker='o', edgecolors='white', s=60)\n",
    "\n",
    "plt.scatter(ground_truth_beats, [4096] * len(ground_truth_beats), color='lime', label='Ground Truth Beats', marker='x', s=80)\n",
    "\n",
    "plt.title(\"Predicted Beats (DBN) vs. Ground Truth on Mel Spectrogram\")\n",
    "plt.xlabel(\"Time (s)\")\n",
    "plt.ylabel(\"Mel Frequency Bands\")\n",
    "plt.legend()\n",
    "# plt.colorbar(label=\"Log Magnitude (dB)\")\n",
    "plt.show()"
   ]
  },
  {
   "cell_type": "markdown",
   "id": "19aba535-6087-4c64-b8d0-5e428713ad32",
   "metadata": {},
   "source": [
    "## Metrics"
   ]
  },
  {
   "cell_type": "code",
   "execution_count": null,
   "id": "06038740-2833-4bb1-89f0-b38e8542f461",
   "metadata": {
    "tags": []
   },
   "outputs": [],
   "source": [
    "dbn_processor = DBNBeatTrackingProcessor(min_bpm=55, max_bpm=215, threshold=0.4, fps=100)\n",
    "\n",
    "test_loader = DataLoader(test_sub_dataset, batch_size=1, shuffle=False)\n",
    "model_no_fuz.eval()\n",
    "\n",
    "all_predictions = []\n",
    "all_ground_truths = []\n",
    "\n",
    "metrics = {'F-measure':0,\n",
    "           'Correct Metric Level Continuous':0,\n",
    "           'Correct Metric Level Total':0,\n",
    "           'Any Metric Level Continuous':0,\n",
    "           'Any Metric Level Total':0\n",
    "           }\n",
    "\n",
    "count = 0\n",
    "with torch.no_grad():\n",
    "    for spectrogram, ground_truth in test_loader:\n",
    "        spectrogram = spectrogram.to(device).unsqueeze(1)\n",
    "        ground_truth = ground_truth.cpu().numpy().flatten()\n",
    "\n",
    "        activation = model_no_fuz(spectrogram).squeeze(1).cpu().numpy().flatten()\n",
    "\n",
    "        detected_beats = dbn_processor(activation)\n",
    "\n",
    "        hop_size = 0.01\n",
    "        ground_truth_beats = np.where(ground_truth > 0.5)[0] * hop_size\n",
    "\n",
    "        scores = mir_eval.beat.evaluate(detected_beats, ground_truth_beats)\n",
    "\n",
    "        count += 1\n",
    "        for metric in metrics:\n",
    "            metrics[metric] += scores[metric]\n",
    "\n",
    "for metric in metrics:\n",
    "    metrics[metric] = metrics[metric]/count"
   ]
  },
  {
   "cell_type": "code",
   "execution_count": null,
   "id": "000e855b-79b3-411f-a77b-2070aab15270",
   "metadata": {
    "tags": []
   },
   "outputs": [],
   "source": [
    "metrics"
   ]
  }
 ],
 "metadata": {
  "kernelspec": {
   "display_name": "Python 3 (ipykernel)",
   "language": "python",
   "name": "python3"
  },
  "language_info": {
   "codemirror_mode": {
    "name": "ipython",
    "version": 3
   },
   "file_extension": ".py",
   "mimetype": "text/x-python",
   "name": "python",
   "nbconvert_exporter": "python",
   "pygments_lexer": "ipython3",
   "version": "3.11.7"
  }
 },
 "nbformat": 4,
 "nbformat_minor": 5
}
